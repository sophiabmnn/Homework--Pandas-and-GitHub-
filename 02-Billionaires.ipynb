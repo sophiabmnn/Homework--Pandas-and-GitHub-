{
 "cells": [
  {
   "cell_type": "markdown",
   "metadata": {},
   "source": [
    "# Homework 5, Part 2: Answer questions with pandas\n",
    "\n",
    "**Use the Excel file to answer the following questions.** This is a little more typical of what your data exploration will look like with pandas.\n",
    "\n",
    "> Again, **don't use ChatGPT for this assignment.** You should be able to memorize the most basic parts of pandas."
   ]
  },
  {
   "cell_type": "markdown",
   "metadata": {},
   "source": [
    "## 0) Setup\n",
    "\n",
    "Import pandas **with the correct name** ."
   ]
  },
  {
   "cell_type": "code",
   "execution_count": 104,
   "metadata": {},
   "outputs": [],
   "source": [
    "import pandas as pd"
   ]
  },
  {
   "cell_type": "markdown",
   "metadata": {},
   "source": [
    "## 1) Reading in an Excel file\n",
    "\n",
    "Use pandas to read in the `richpeople.xlsx` Excel file, saving it as a variable with the name we'll always use for a dataframe.\n",
    "\n",
    "> **TIP:** You will use `read_excel` instead of `read_csv`. Trying `read_excel` the first time will probably not work, you'll get an error message. Be sure to read the error carefully: *you probably need to install a new library before it will work, and the error tells you what the library is named*. You *might* need to do `Kernel > Restart Kernel...` and run the notebook again from the top in order to get it to work."
   ]
  },
  {
   "cell_type": "code",
   "execution_count": 105,
   "metadata": {},
   "outputs": [],
   "source": [
    "df = pd.read_excel('richpeople.xlsx')"
   ]
  },
  {
   "cell_type": "markdown",
   "metadata": {},
   "source": [
    "## 2) Checking your data\n",
    "\n",
    "Display the number of rows and columns in your data. Also display the names and data types of each column."
   ]
  },
  {
   "cell_type": "code",
   "execution_count": 106,
   "metadata": {},
   "outputs": [
    {
     "data": {
      "text/plain": [
       "(1653, 30)"
      ]
     },
     "execution_count": 106,
     "metadata": {},
     "output_type": "execute_result"
    }
   ],
   "source": [
    "df.shape"
   ]
  },
  {
   "cell_type": "code",
   "execution_count": 107,
   "metadata": {},
   "outputs": [
    {
     "name": "stdout",
     "output_type": "stream",
     "text": [
      "<class 'pandas.core.frame.DataFrame'>\n",
      "RangeIndex: 1653 entries, 0 to 1652\n",
      "Data columns (total 30 columns):\n",
      " #   Column                   Non-Null Count  Dtype  \n",
      "---  ------                   --------------  -----  \n",
      " 0   year                     1653 non-null   int64  \n",
      " 1   name                     1653 non-null   object \n",
      " 2   rank                     1653 non-null   int64  \n",
      " 3   citizenship              1653 non-null   object \n",
      " 4   countrycode              1653 non-null   object \n",
      " 5   networthusbillion        1653 non-null   float64\n",
      " 6   selfmade                 1651 non-null   object \n",
      " 7   typeofwealth             1651 non-null   object \n",
      " 8   gender                   1653 non-null   object \n",
      " 9   age                      1590 non-null   float64\n",
      " 10  industry                 1652 non-null   object \n",
      " 11  IndustryAggregates       1652 non-null   object \n",
      " 12  region                   1653 non-null   object \n",
      " 13  north                    1653 non-null   int64  \n",
      " 14  politicalconnection      56 non-null     float64\n",
      " 15  founder                  1653 non-null   int64  \n",
      " 16  generationofinheritance  1653 non-null   object \n",
      " 17  sector                   1653 non-null   object \n",
      " 18  company                  1645 non-null   object \n",
      " 19  companytype              1646 non-null   object \n",
      " 20  relationshiptocompany    1651 non-null   object \n",
      " 21  foundingdate             1641 non-null   float64\n",
      " 22  gdpcurrentus             0 non-null      float64\n",
      " 23  sourceofwealth           1635 non-null   object \n",
      " 24  notes                    683 non-null    object \n",
      " 25  notes2                   111 non-null    object \n",
      " 26  source                   1653 non-null   object \n",
      " 27  source_2                 1416 non-null   object \n",
      " 28  source_3                 523 non-null    object \n",
      " 29  source_4                 17 non-null     object \n",
      "dtypes: float64(5), int64(4), object(21)\n",
      "memory usage: 387.6+ KB\n"
     ]
    }
   ],
   "source": [
    "df.info()"
   ]
  },
  {
   "cell_type": "code",
   "execution_count": null,
   "metadata": {},
   "outputs": [],
   "source": []
  },
  {
   "cell_type": "markdown",
   "metadata": {},
   "source": [
    "## 3) Who are the top 10 richest billionaires? Use the `networthusbillion` column."
   ]
  },
  {
   "cell_type": "code",
   "execution_count": 108,
   "metadata": {},
   "outputs": [
    {
     "data": {
      "text/html": [
       "<div>\n",
       "<style scoped>\n",
       "    .dataframe tbody tr th:only-of-type {\n",
       "        vertical-align: middle;\n",
       "    }\n",
       "\n",
       "    .dataframe tbody tr th {\n",
       "        vertical-align: top;\n",
       "    }\n",
       "\n",
       "    .dataframe thead th {\n",
       "        text-align: right;\n",
       "    }\n",
       "</style>\n",
       "<table border=\"1\" class=\"dataframe\">\n",
       "  <thead>\n",
       "    <tr style=\"text-align: right;\">\n",
       "      <th></th>\n",
       "      <th>year</th>\n",
       "      <th>name</th>\n",
       "      <th>rank</th>\n",
       "      <th>citizenship</th>\n",
       "      <th>countrycode</th>\n",
       "      <th>networthusbillion</th>\n",
       "      <th>selfmade</th>\n",
       "      <th>typeofwealth</th>\n",
       "      <th>gender</th>\n",
       "      <th>age</th>\n",
       "      <th>...</th>\n",
       "      <th>relationshiptocompany</th>\n",
       "      <th>foundingdate</th>\n",
       "      <th>gdpcurrentus</th>\n",
       "      <th>sourceofwealth</th>\n",
       "      <th>notes</th>\n",
       "      <th>notes2</th>\n",
       "      <th>source</th>\n",
       "      <th>source_2</th>\n",
       "      <th>source_3</th>\n",
       "      <th>source_4</th>\n",
       "    </tr>\n",
       "  </thead>\n",
       "  <tbody>\n",
       "    <tr>\n",
       "      <th>184</th>\n",
       "      <td>2014</td>\n",
       "      <td>Bill Gates</td>\n",
       "      <td>1</td>\n",
       "      <td>United States</td>\n",
       "      <td>USA</td>\n",
       "      <td>76.0</td>\n",
       "      <td>self-made</td>\n",
       "      <td>founder non-finance</td>\n",
       "      <td>male</td>\n",
       "      <td>58.0</td>\n",
       "      <td>...</td>\n",
       "      <td>founder</td>\n",
       "      <td>1975.0</td>\n",
       "      <td>NaN</td>\n",
       "      <td>Microsoft</td>\n",
       "      <td>NaN</td>\n",
       "      <td>NaN</td>\n",
       "      <td>http://www.forbes.com/profile/bill-gates/</td>\n",
       "      <td>NaN</td>\n",
       "      <td>NaN</td>\n",
       "      <td>NaN</td>\n",
       "    </tr>\n",
       "    <tr>\n",
       "      <th>226</th>\n",
       "      <td>2014</td>\n",
       "      <td>Carlos Slim Helu</td>\n",
       "      <td>2</td>\n",
       "      <td>Mexico</td>\n",
       "      <td>MEX</td>\n",
       "      <td>72.0</td>\n",
       "      <td>self-made</td>\n",
       "      <td>privatized and resources</td>\n",
       "      <td>male</td>\n",
       "      <td>74.0</td>\n",
       "      <td>...</td>\n",
       "      <td>founder</td>\n",
       "      <td>1990.0</td>\n",
       "      <td>NaN</td>\n",
       "      <td>telecom</td>\n",
       "      <td>NaN</td>\n",
       "      <td>NaN</td>\n",
       "      <td>http://www.ozy.com/provocateurs/carlos-slims-w...</td>\n",
       "      <td>NaN</td>\n",
       "      <td>NaN</td>\n",
       "      <td>NaN</td>\n",
       "    </tr>\n",
       "    <tr>\n",
       "      <th>79</th>\n",
       "      <td>2014</td>\n",
       "      <td>Amancio Ortega</td>\n",
       "      <td>3</td>\n",
       "      <td>Spain</td>\n",
       "      <td>ESP</td>\n",
       "      <td>64.0</td>\n",
       "      <td>self-made</td>\n",
       "      <td>founder non-finance</td>\n",
       "      <td>male</td>\n",
       "      <td>77.0</td>\n",
       "      <td>...</td>\n",
       "      <td>founder</td>\n",
       "      <td>1975.0</td>\n",
       "      <td>NaN</td>\n",
       "      <td>retail</td>\n",
       "      <td>NaN</td>\n",
       "      <td>NaN</td>\n",
       "      <td>http://www.forbes.com/profile/amancio-ortega/</td>\n",
       "      <td>NaN</td>\n",
       "      <td>NaN</td>\n",
       "      <td>NaN</td>\n",
       "    </tr>\n",
       "    <tr>\n",
       "      <th>1562</th>\n",
       "      <td>2014</td>\n",
       "      <td>Warren Buffett</td>\n",
       "      <td>4</td>\n",
       "      <td>United States</td>\n",
       "      <td>USA</td>\n",
       "      <td>58.2</td>\n",
       "      <td>self-made</td>\n",
       "      <td>founder non-finance</td>\n",
       "      <td>male</td>\n",
       "      <td>83.0</td>\n",
       "      <td>...</td>\n",
       "      <td>founder</td>\n",
       "      <td>1839.0</td>\n",
       "      <td>NaN</td>\n",
       "      <td>Berkshire Hathaway</td>\n",
       "      <td>NaN</td>\n",
       "      <td>NaN</td>\n",
       "      <td>http://www.forbes.com/lists/2009/10/billionair...</td>\n",
       "      <td>http://www.forbes.com/companies/berkshire-hath...</td>\n",
       "      <td>NaN</td>\n",
       "      <td>NaN</td>\n",
       "    </tr>\n",
       "    <tr>\n",
       "      <th>862</th>\n",
       "      <td>2014</td>\n",
       "      <td>Larry Ellison</td>\n",
       "      <td>5</td>\n",
       "      <td>United States</td>\n",
       "      <td>USA</td>\n",
       "      <td>48.0</td>\n",
       "      <td>self-made</td>\n",
       "      <td>founder non-finance</td>\n",
       "      <td>male</td>\n",
       "      <td>69.0</td>\n",
       "      <td>...</td>\n",
       "      <td>founder</td>\n",
       "      <td>1977.0</td>\n",
       "      <td>NaN</td>\n",
       "      <td>Oracle</td>\n",
       "      <td>NaN</td>\n",
       "      <td>NaN</td>\n",
       "      <td>http://www.forbes.com/profile/larry-ellison/</td>\n",
       "      <td>http://www.businessinsider.com/how-larry-ellis...</td>\n",
       "      <td>NaN</td>\n",
       "      <td>NaN</td>\n",
       "    </tr>\n",
       "    <tr>\n",
       "      <th>339</th>\n",
       "      <td>2014</td>\n",
       "      <td>David Koch</td>\n",
       "      <td>6</td>\n",
       "      <td>United States</td>\n",
       "      <td>USA</td>\n",
       "      <td>40.0</td>\n",
       "      <td>inherited</td>\n",
       "      <td>inherited</td>\n",
       "      <td>male</td>\n",
       "      <td>73.0</td>\n",
       "      <td>...</td>\n",
       "      <td>relation</td>\n",
       "      <td>1940.0</td>\n",
       "      <td>NaN</td>\n",
       "      <td>diversified</td>\n",
       "      <td>inherited from father</td>\n",
       "      <td>NaN</td>\n",
       "      <td>http://www.kochind.com/About_Koch/History_Time...</td>\n",
       "      <td>NaN</td>\n",
       "      <td>NaN</td>\n",
       "      <td>NaN</td>\n",
       "    </tr>\n",
       "    <tr>\n",
       "      <th>247</th>\n",
       "      <td>2014</td>\n",
       "      <td>Charles Koch</td>\n",
       "      <td>6</td>\n",
       "      <td>United States</td>\n",
       "      <td>USA</td>\n",
       "      <td>40.0</td>\n",
       "      <td>inherited</td>\n",
       "      <td>inherited</td>\n",
       "      <td>male</td>\n",
       "      <td>78.0</td>\n",
       "      <td>...</td>\n",
       "      <td>relation</td>\n",
       "      <td>1940.0</td>\n",
       "      <td>NaN</td>\n",
       "      <td>diversified</td>\n",
       "      <td>inherited from father</td>\n",
       "      <td>NaN</td>\n",
       "      <td>http://www.kochind.com/About_Koch/History_Time...</td>\n",
       "      <td>NaN</td>\n",
       "      <td>NaN</td>\n",
       "      <td>NaN</td>\n",
       "    </tr>\n",
       "    <tr>\n",
       "      <th>1364</th>\n",
       "      <td>2014</td>\n",
       "      <td>Sheldon Adelson</td>\n",
       "      <td>8</td>\n",
       "      <td>United States</td>\n",
       "      <td>USA</td>\n",
       "      <td>38.0</td>\n",
       "      <td>self-made</td>\n",
       "      <td>self-made finance</td>\n",
       "      <td>male</td>\n",
       "      <td>80.0</td>\n",
       "      <td>...</td>\n",
       "      <td>founder</td>\n",
       "      <td>1952.0</td>\n",
       "      <td>NaN</td>\n",
       "      <td>casinos</td>\n",
       "      <td>NaN</td>\n",
       "      <td>NaN</td>\n",
       "      <td>http://www.forbes.com/profile/sheldon-adelson/</td>\n",
       "      <td>http://lasvegassun.com/news/1996/nov/26/rat-pa...</td>\n",
       "      <td>NaN</td>\n",
       "      <td>NaN</td>\n",
       "    </tr>\n",
       "    <tr>\n",
       "      <th>280</th>\n",
       "      <td>2014</td>\n",
       "      <td>Christy Walton</td>\n",
       "      <td>9</td>\n",
       "      <td>United States</td>\n",
       "      <td>USA</td>\n",
       "      <td>36.7</td>\n",
       "      <td>inherited</td>\n",
       "      <td>inherited</td>\n",
       "      <td>female</td>\n",
       "      <td>59.0</td>\n",
       "      <td>...</td>\n",
       "      <td>relation</td>\n",
       "      <td>1962.0</td>\n",
       "      <td>NaN</td>\n",
       "      <td>Wal-Mart</td>\n",
       "      <td>widow</td>\n",
       "      <td>NaN</td>\n",
       "      <td>http://www.forbes.com/profile/christy-walton/</td>\n",
       "      <td>NaN</td>\n",
       "      <td>NaN</td>\n",
       "      <td>NaN</td>\n",
       "    </tr>\n",
       "    <tr>\n",
       "      <th>724</th>\n",
       "      <td>2014</td>\n",
       "      <td>Jim Walton</td>\n",
       "      <td>10</td>\n",
       "      <td>United States</td>\n",
       "      <td>USA</td>\n",
       "      <td>34.7</td>\n",
       "      <td>inherited</td>\n",
       "      <td>inherited</td>\n",
       "      <td>male</td>\n",
       "      <td>66.0</td>\n",
       "      <td>...</td>\n",
       "      <td>relation</td>\n",
       "      <td>1962.0</td>\n",
       "      <td>NaN</td>\n",
       "      <td>Wal-Mart</td>\n",
       "      <td>inherited from father</td>\n",
       "      <td>NaN</td>\n",
       "      <td>http://www.forbes.com/profile/jim-walton/</td>\n",
       "      <td>NaN</td>\n",
       "      <td>NaN</td>\n",
       "      <td>NaN</td>\n",
       "    </tr>\n",
       "  </tbody>\n",
       "</table>\n",
       "<p>10 rows × 30 columns</p>\n",
       "</div>"
      ],
      "text/plain": [
       "      year              name  rank    citizenship countrycode  \\\n",
       "184   2014        Bill Gates     1  United States         USA   \n",
       "226   2014  Carlos Slim Helu     2         Mexico         MEX   \n",
       "79    2014    Amancio Ortega     3          Spain         ESP   \n",
       "1562  2014    Warren Buffett     4  United States         USA   \n",
       "862   2014     Larry Ellison     5  United States         USA   \n",
       "339   2014        David Koch     6  United States         USA   \n",
       "247   2014      Charles Koch     6  United States         USA   \n",
       "1364  2014   Sheldon Adelson     8  United States         USA   \n",
       "280   2014    Christy Walton     9  United States         USA   \n",
       "724   2014        Jim Walton    10  United States         USA   \n",
       "\n",
       "      networthusbillion   selfmade              typeofwealth  gender   age  \\\n",
       "184                76.0  self-made       founder non-finance    male  58.0   \n",
       "226                72.0  self-made  privatized and resources    male  74.0   \n",
       "79                 64.0  self-made       founder non-finance    male  77.0   \n",
       "1562               58.2  self-made       founder non-finance    male  83.0   \n",
       "862                48.0  self-made       founder non-finance    male  69.0   \n",
       "339                40.0  inherited                 inherited    male  73.0   \n",
       "247                40.0  inherited                 inherited    male  78.0   \n",
       "1364               38.0  self-made         self-made finance    male  80.0   \n",
       "280                36.7  inherited                 inherited  female  59.0   \n",
       "724                34.7  inherited                 inherited    male  66.0   \n",
       "\n",
       "      ... relationshiptocompany foundingdate gdpcurrentus      sourceofwealth  \\\n",
       "184   ...               founder       1975.0          NaN           Microsoft   \n",
       "226   ...               founder       1990.0          NaN             telecom   \n",
       "79    ...               founder       1975.0          NaN              retail   \n",
       "1562  ...               founder       1839.0          NaN  Berkshire Hathaway   \n",
       "862   ...               founder       1977.0          NaN              Oracle   \n",
       "339   ...              relation       1940.0          NaN         diversified   \n",
       "247   ...              relation       1940.0          NaN         diversified   \n",
       "1364  ...               founder       1952.0          NaN             casinos   \n",
       "280   ...              relation       1962.0          NaN            Wal-Mart   \n",
       "724   ...              relation       1962.0          NaN            Wal-Mart   \n",
       "\n",
       "                      notes  notes2  \\\n",
       "184                     NaN     NaN   \n",
       "226                     NaN     NaN   \n",
       "79                      NaN     NaN   \n",
       "1562                    NaN     NaN   \n",
       "862                     NaN     NaN   \n",
       "339   inherited from father     NaN   \n",
       "247   inherited from father     NaN   \n",
       "1364                    NaN     NaN   \n",
       "280                   widow     NaN   \n",
       "724   inherited from father     NaN   \n",
       "\n",
       "                                                 source  \\\n",
       "184           http://www.forbes.com/profile/bill-gates/   \n",
       "226   http://www.ozy.com/provocateurs/carlos-slims-w...   \n",
       "79        http://www.forbes.com/profile/amancio-ortega/   \n",
       "1562  http://www.forbes.com/lists/2009/10/billionair...   \n",
       "862        http://www.forbes.com/profile/larry-ellison/   \n",
       "339   http://www.kochind.com/About_Koch/History_Time...   \n",
       "247   http://www.kochind.com/About_Koch/History_Time...   \n",
       "1364     http://www.forbes.com/profile/sheldon-adelson/   \n",
       "280       http://www.forbes.com/profile/christy-walton/   \n",
       "724           http://www.forbes.com/profile/jim-walton/   \n",
       "\n",
       "                                               source_2 source_3 source_4  \n",
       "184                                                 NaN      NaN      NaN  \n",
       "226                                                 NaN      NaN      NaN  \n",
       "79                                                  NaN      NaN      NaN  \n",
       "1562  http://www.forbes.com/companies/berkshire-hath...      NaN      NaN  \n",
       "862   http://www.businessinsider.com/how-larry-ellis...      NaN      NaN  \n",
       "339                                                 NaN      NaN      NaN  \n",
       "247                                                 NaN      NaN      NaN  \n",
       "1364  http://lasvegassun.com/news/1996/nov/26/rat-pa...      NaN      NaN  \n",
       "280                                                 NaN      NaN      NaN  \n",
       "724                                                 NaN      NaN      NaN  \n",
       "\n",
       "[10 rows x 30 columns]"
      ]
     },
     "execution_count": 108,
     "metadata": {},
     "output_type": "execute_result"
    }
   ],
   "source": [
    "df.sort_values(by='networthusbillion',ascending=False).head(10)"
   ]
  },
  {
   "cell_type": "markdown",
   "metadata": {},
   "source": [
    "## 4a) How many male billionaires are there compared to the number of female billionares?\n",
    "\n",
    "> **TIP:** This is not a `.groupby`"
   ]
  },
  {
   "cell_type": "code",
   "execution_count": 109,
   "metadata": {},
   "outputs": [
    {
     "data": {
      "text/plain": [
       "gender\n",
       "male      1473\n",
       "female     180\n",
       "Name: count, dtype: int64"
      ]
     },
     "execution_count": 109,
     "metadata": {},
     "output_type": "execute_result"
    }
   ],
   "source": [
    "df.value_counts('gender')"
   ]
  },
  {
   "cell_type": "markdown",
   "metadata": {},
   "source": [
    "## 4b) What percent is that?\n",
    "\n",
    "> **TIP:** Doing percentages with the answer to `4a` is so common that there's an extra parameter to automatically calculate it. Look at the documentation!"
   ]
  },
  {
   "cell_type": "code",
   "execution_count": 110,
   "metadata": {},
   "outputs": [
    {
     "data": {
      "text/plain": [
       "gender\n",
       "male      0.891107\n",
       "female    0.108893\n",
       "Name: proportion, dtype: float64"
      ]
     },
     "execution_count": 110,
     "metadata": {},
     "output_type": "execute_result"
    }
   ],
   "source": [
    "df.value_counts('gender', normalize=True)"
   ]
  },
  {
   "cell_type": "markdown",
   "metadata": {},
   "source": [
    "## 4c) Is the average wealth different for a female billionaire as compared to a male billionaire?\n",
    "\n",
    "> **TIP:** This one *does* use `.groupby`. You can pick what 'average' means in this context."
   ]
  },
  {
   "cell_type": "code",
   "execution_count": 111,
   "metadata": {
    "scrolled": true
   },
   "outputs": [
    {
     "data": {
      "text/plain": [
       "gender\n",
       "female    3.920556\n",
       "male      3.902716\n",
       "Name: networthusbillion, dtype: float64"
      ]
     },
     "execution_count": 111,
     "metadata": {},
     "output_type": "execute_result"
    }
   ],
   "source": [
    "df.groupby('gender')['networthusbillion'].mean()"
   ]
  },
  {
   "cell_type": "markdown",
   "metadata": {},
   "source": [
    "## 5a) What is the most common source/type of wealth?"
   ]
  },
  {
   "cell_type": "code",
   "execution_count": 112,
   "metadata": {},
   "outputs": [
    {
     "data": {
      "text/plain": [
       "sourceofwealth\n",
       "real estate    107\n",
       "Name: count, dtype: int64"
      ]
     },
     "execution_count": 112,
     "metadata": {},
     "output_type": "execute_result"
    }
   ],
   "source": [
    "df.value_counts('sourceofwealth',ascending=False).head(1)"
   ]
  },
  {
   "cell_type": "markdown",
   "metadata": {},
   "source": [
    "## 5b) Is the most common source/type of wealth different between men and women?\n",
    "\n",
    "> **TIP:** You know how to `groupby` and you know how to count how many times a value is in a column. Can you put them together??? You could also do this as two separate cells where you calculate it separately for men and women.\n",
    ">\n",
    "> **TIP:** Use percentages for this, it makes it a lot more readable."
   ]
  },
  {
   "cell_type": "code",
   "execution_count": 114,
   "metadata": {},
   "outputs": [],
   "source": [
    "men = df[df['gender']=='male']\n",
    "women = df[df['gender']=='female']"
   ]
  },
  {
   "cell_type": "code",
   "execution_count": null,
   "metadata": {},
   "outputs": [],
   "source": []
  },
  {
   "cell_type": "code",
   "execution_count": 115,
   "metadata": {},
   "outputs": [
    {
     "data": {
      "text/plain": [
       "sourceofwealth\n",
       "real estate    100\n",
       "Name: count, dtype: int64"
      ]
     },
     "execution_count": 115,
     "metadata": {},
     "output_type": "execute_result"
    }
   ],
   "source": [
    "men.value_counts('sourceofwealth',ascending=False).head(1)"
   ]
  },
  {
   "cell_type": "code",
   "execution_count": 116,
   "metadata": {},
   "outputs": [
    {
     "data": {
      "text/plain": [
       "sourceofwealth\n",
       "diversified    9\n",
       "Name: count, dtype: int64"
      ]
     },
     "execution_count": 116,
     "metadata": {},
     "output_type": "execute_result"
    }
   ],
   "source": [
    "women.value_counts('sourceofwealth',ascending=False).head(1)"
   ]
  },
  {
   "cell_type": "markdown",
   "metadata": {},
   "source": [
    "## 6a) What companies have the most billionaires? Let's see the top five.\n",
    "\n",
    "> **TIP:** You can use `.head()` on *anything*, not just your basic `df`\n",
    ">\n",
    "> **TIP:** You might feel like you should use `groupby`, but don't! There's an easier way to count."
   ]
  },
  {
   "cell_type": "code",
   "execution_count": 117,
   "metadata": {},
   "outputs": [
    {
     "data": {
      "text/html": [
       "<div>\n",
       "<style scoped>\n",
       "    .dataframe tbody tr th:only-of-type {\n",
       "        vertical-align: middle;\n",
       "    }\n",
       "\n",
       "    .dataframe tbody tr th {\n",
       "        vertical-align: top;\n",
       "    }\n",
       "\n",
       "    .dataframe thead th {\n",
       "        text-align: right;\n",
       "    }\n",
       "</style>\n",
       "<table border=\"1\" class=\"dataframe\">\n",
       "  <thead>\n",
       "    <tr style=\"text-align: right;\">\n",
       "      <th></th>\n",
       "      <th>company</th>\n",
       "      <th>count</th>\n",
       "    </tr>\n",
       "  </thead>\n",
       "  <tbody>\n",
       "    <tr>\n",
       "      <th>0</th>\n",
       "      <td>Hyatt</td>\n",
       "      <td>11</td>\n",
       "    </tr>\n",
       "    <tr>\n",
       "      <th>1</th>\n",
       "      <td>Oetker-Gruppe</td>\n",
       "      <td>8</td>\n",
       "    </tr>\n",
       "    <tr>\n",
       "      <th>2</th>\n",
       "      <td>S. C. Johnson &amp; Son</td>\n",
       "      <td>7</td>\n",
       "    </tr>\n",
       "    <tr>\n",
       "      <th>3</th>\n",
       "      <td>Alfa Group</td>\n",
       "      <td>6</td>\n",
       "    </tr>\n",
       "    <tr>\n",
       "      <th>4</th>\n",
       "      <td>Walmart</td>\n",
       "      <td>6</td>\n",
       "    </tr>\n",
       "  </tbody>\n",
       "</table>\n",
       "</div>"
      ],
      "text/plain": [
       "               company  count\n",
       "0                Hyatt     11\n",
       "1        Oetker-Gruppe      8\n",
       "2  S. C. Johnson & Son      7\n",
       "3           Alfa Group      6\n",
       "4              Walmart      6"
      ]
     },
     "execution_count": 117,
     "metadata": {},
     "output_type": "execute_result"
    }
   ],
   "source": [
    "df_count = df.value_counts('company', ascending=False).head(5).reset_index()\n",
    "df_count"
   ]
  },
  {
   "cell_type": "markdown",
   "metadata": {},
   "source": [
    "### 6b) Graph those top 5 as a horizontal bar graph. Make the largest bar be at the top of the graph.\n",
    "\n",
    "> **TIP:** Just try to throw `.plot()` on the end??\n",
    "> \n",
    "> **TIP:** Make the largest bar be at the top of the graph\n",
    ">\n",
    "> **TIP:** If your chart seems... weird, think about where in the process you're sorting vs using `head`"
   ]
  },
  {
   "cell_type": "code",
   "execution_count": 118,
   "metadata": {},
   "outputs": [
    {
     "data": {
      "text/plain": [
       "<Axes: ylabel='company'>"
      ]
     },
     "execution_count": 118,
     "metadata": {},
     "output_type": "execute_result"
    },
    {
     "data": {
      "image/png": "[encoded data removed]",
      "text/plain": [
       "<Figure size 640x480 with 1 Axes>"
      ]
     },
     "metadata": {},
     "output_type": "display_data"
    }
   ],
   "source": [
    "df_count.sort_values(by='count').plot(x='company', y='count', kind='barh')"
   ]
  },
  {
   "cell_type": "markdown",
   "metadata": {},
   "source": [
    "## 7) How much money do these top 5 billionaires have in total?\n",
    "\n",
    "> **TIP:** for multiple conditions, you can't use `or` and `and`. In pandas, `|` means *or* and `&` means *and*.\n",
    ">\n",
    "> **TIP:** Checking multiple conditions can be done two ways.\n",
    "> - `(df.colname == 'A') | (df.colname == 'B')`\n",
    "> - `df.colname.isin(['A', 'B'])`"
   ]
  },
  {
   "cell_type": "code",
   "execution_count": 119,
   "metadata": {},
   "outputs": [
    {
     "data": {
      "text/plain": [
       "256.5"
      ]
     },
     "execution_count": 119,
     "metadata": {},
     "output_type": "execute_result"
    }
   ],
   "source": [
    "df[(df.company=='Hyatt') | (df.company=='Oetker-Gruppe') | (df.company=='S. C. Johnson & Son') | (df.company=='Alfa Group') | (df.company=='Walmart')]['networthusbillion'].sum()"
   ]
  },
  {
   "cell_type": "markdown",
   "metadata": {},
   "source": [
    "## 8) What are the top 10 countries with the most money held by billionaires?\n",
    "\n",
    "I am **not** asking which country has the most billionaires - this is **total amount of money per country.**\n",
    "\n",
    "> **TIP:** Think about it in steps - \"I want them organized by country,\" \"I want their net worth,\" \"I want to add it all up,\" and \"I want 10 of them.\" Just chain it all together."
   ]
  },
  {
   "cell_type": "code",
   "execution_count": 120,
   "metadata": {},
   "outputs": [
    {
     "data": {
      "text/html": [
       "<div>\n",
       "<style scoped>\n",
       "    .dataframe tbody tr th:only-of-type {\n",
       "        vertical-align: middle;\n",
       "    }\n",
       "\n",
       "    .dataframe tbody tr th {\n",
       "        vertical-align: top;\n",
       "    }\n",
       "\n",
       "    .dataframe thead th {\n",
       "        text-align: right;\n",
       "    }\n",
       "</style>\n",
       "<table border=\"1\" class=\"dataframe\">\n",
       "  <thead>\n",
       "    <tr style=\"text-align: right;\">\n",
       "      <th></th>\n",
       "      <th>countrycode</th>\n",
       "      <th>networthusbillion</th>\n",
       "    </tr>\n",
       "  </thead>\n",
       "  <tbody>\n",
       "    <tr>\n",
       "      <th>65</th>\n",
       "      <td>USA</td>\n",
       "      <td>2322.4</td>\n",
       "    </tr>\n",
       "    <tr>\n",
       "      <th>54</th>\n",
       "      <td>RUS</td>\n",
       "      <td>422.5</td>\n",
       "    </tr>\n",
       "    <tr>\n",
       "      <th>15</th>\n",
       "      <td>DEU</td>\n",
       "      <td>401.4</td>\n",
       "    </tr>\n",
       "    <tr>\n",
       "      <th>10</th>\n",
       "      <td>CHN</td>\n",
       "      <td>375.8</td>\n",
       "    </tr>\n",
       "    <tr>\n",
       "      <th>20</th>\n",
       "      <td>FRA</td>\n",
       "      <td>235.3</td>\n",
       "    </tr>\n",
       "    <tr>\n",
       "      <th>25</th>\n",
       "      <td>HKG</td>\n",
       "      <td>213.7</td>\n",
       "    </tr>\n",
       "    <tr>\n",
       "      <th>6</th>\n",
       "      <td>BRA</td>\n",
       "      <td>192.2</td>\n",
       "    </tr>\n",
       "    <tr>\n",
       "      <th>27</th>\n",
       "      <td>IND</td>\n",
       "      <td>191.9</td>\n",
       "    </tr>\n",
       "    <tr>\n",
       "      <th>30</th>\n",
       "      <td>ITA</td>\n",
       "      <td>158.1</td>\n",
       "    </tr>\n",
       "    <tr>\n",
       "      <th>21</th>\n",
       "      <td>GBR</td>\n",
       "      <td>152.0</td>\n",
       "    </tr>\n",
       "  </tbody>\n",
       "</table>\n",
       "</div>"
      ],
      "text/plain": [
       "   countrycode  networthusbillion\n",
       "65         USA             2322.4\n",
       "54         RUS              422.5\n",
       "15         DEU              401.4\n",
       "10         CHN              375.8\n",
       "20         FRA              235.3\n",
       "25         HKG              213.7\n",
       "6          BRA              192.2\n",
       "27         IND              191.9\n",
       "30         ITA              158.1\n",
       "21         GBR              152.0"
      ]
     },
     "execution_count": 120,
     "metadata": {},
     "output_type": "execute_result"
    }
   ],
   "source": [
    "df.groupby('countrycode')['networthusbillion'].sum().reset_index().sort_values(by='networthusbillion',ascending=False).head(10)"
   ]
  },
  {
   "cell_type": "markdown",
   "metadata": {},
   "source": [
    "## 9a) How old is an average billionaire?"
   ]
  },
  {
   "cell_type": "code",
   "execution_count": 121,
   "metadata": {},
   "outputs": [
    {
     "data": {
      "text/plain": [
       "63.34213836477988"
      ]
     },
     "execution_count": 121,
     "metadata": {},
     "output_type": "execute_result"
    }
   ],
   "source": [
    "df['age'].mean()"
   ]
  },
  {
   "cell_type": "markdown",
   "metadata": {},
   "source": [
    "## 9b) How old are self-made billionaires compared to non self-made billionaires? "
   ]
  },
  {
   "cell_type": "code",
   "execution_count": 122,
   "metadata": {},
   "outputs": [
    {
     "data": {
      "text/plain": [
       "selfmade\n",
       "inherited    64.962185\n",
       "self-made    62.625899\n",
       "Name: age, dtype: float64"
      ]
     },
     "execution_count": 122,
     "metadata": {},
     "output_type": "execute_result"
    }
   ],
   "source": [
    "df.groupby('selfmade')['age'].mean()"
   ]
  },
  {
   "cell_type": "code",
   "execution_count": null,
   "metadata": {},
   "outputs": [],
   "source": []
  },
  {
   "cell_type": "markdown",
   "metadata": {},
   "source": [
    "## 10a) Who are the three youngest billionaires? Who are the three oldest?"
   ]
  },
  {
   "cell_type": "code",
   "execution_count": 123,
   "metadata": {},
   "outputs": [
    {
     "data": {
      "text/html": [
       "<div>\n",
       "<style scoped>\n",
       "    .dataframe tbody tr th:only-of-type {\n",
       "        vertical-align: middle;\n",
       "    }\n",
       "\n",
       "    .dataframe tbody tr th {\n",
       "        vertical-align: top;\n",
       "    }\n",
       "\n",
       "    .dataframe thead th {\n",
       "        text-align: right;\n",
       "    }\n",
       "</style>\n",
       "<table border=\"1\" class=\"dataframe\">\n",
       "  <thead>\n",
       "    <tr style=\"text-align: right;\">\n",
       "      <th></th>\n",
       "      <th>year</th>\n",
       "      <th>name</th>\n",
       "      <th>rank</th>\n",
       "      <th>citizenship</th>\n",
       "      <th>countrycode</th>\n",
       "      <th>networthusbillion</th>\n",
       "      <th>selfmade</th>\n",
       "      <th>typeofwealth</th>\n",
       "      <th>gender</th>\n",
       "      <th>age</th>\n",
       "      <th>...</th>\n",
       "      <th>relationshiptocompany</th>\n",
       "      <th>foundingdate</th>\n",
       "      <th>gdpcurrentus</th>\n",
       "      <th>sourceofwealth</th>\n",
       "      <th>notes</th>\n",
       "      <th>notes2</th>\n",
       "      <th>source</th>\n",
       "      <th>source_2</th>\n",
       "      <th>source_3</th>\n",
       "      <th>source_4</th>\n",
       "    </tr>\n",
       "  </thead>\n",
       "  <tbody>\n",
       "    <tr>\n",
       "      <th>1172</th>\n",
       "      <td>2014</td>\n",
       "      <td>Perenna Kei</td>\n",
       "      <td>1284</td>\n",
       "      <td>Hong Kong</td>\n",
       "      <td>HKG</td>\n",
       "      <td>1.3</td>\n",
       "      <td>inherited</td>\n",
       "      <td>inherited</td>\n",
       "      <td>female</td>\n",
       "      <td>24.0</td>\n",
       "      <td>...</td>\n",
       "      <td>relation</td>\n",
       "      <td>1996.0</td>\n",
       "      <td>NaN</td>\n",
       "      <td>real estate</td>\n",
       "      <td>inherited from father</td>\n",
       "      <td>NaN</td>\n",
       "      <td>http://en.wikipedia.org/wiki/Perenna_Kei</td>\n",
       "      <td>http://www.loganestate.com/en/about.aspx?ftid=294</td>\n",
       "      <td>NaN</td>\n",
       "      <td>NaN</td>\n",
       "    </tr>\n",
       "    <tr>\n",
       "      <th>397</th>\n",
       "      <td>2014</td>\n",
       "      <td>Dustin Moskovitz</td>\n",
       "      <td>202</td>\n",
       "      <td>United States</td>\n",
       "      <td>USA</td>\n",
       "      <td>6.8</td>\n",
       "      <td>self-made</td>\n",
       "      <td>founder non-finance</td>\n",
       "      <td>male</td>\n",
       "      <td>29.0</td>\n",
       "      <td>...</td>\n",
       "      <td>founder</td>\n",
       "      <td>2004.0</td>\n",
       "      <td>NaN</td>\n",
       "      <td>Facebook</td>\n",
       "      <td>NaN</td>\n",
       "      <td>NaN</td>\n",
       "      <td>http://en.wikipedia.org/wiki/Dustin_Moskovitz</td>\n",
       "      <td>http://www.forbes.com/profile/dustin-moskovitz/</td>\n",
       "      <td>https://www.facebook.com/facebook/info?tab=pag...</td>\n",
       "      <td>NaN</td>\n",
       "    </tr>\n",
       "    <tr>\n",
       "      <th>1004</th>\n",
       "      <td>2014</td>\n",
       "      <td>Mark Zuckerberg</td>\n",
       "      <td>21</td>\n",
       "      <td>United States</td>\n",
       "      <td>USA</td>\n",
       "      <td>28.5</td>\n",
       "      <td>self-made</td>\n",
       "      <td>founder non-finance</td>\n",
       "      <td>male</td>\n",
       "      <td>29.0</td>\n",
       "      <td>...</td>\n",
       "      <td>founder</td>\n",
       "      <td>2004.0</td>\n",
       "      <td>NaN</td>\n",
       "      <td>Facebook</td>\n",
       "      <td>NaN</td>\n",
       "      <td>NaN</td>\n",
       "      <td>http://www.forbes.com/profile/mark-zuckerberg/</td>\n",
       "      <td>NaN</td>\n",
       "      <td>NaN</td>\n",
       "      <td>NaN</td>\n",
       "    </tr>\n",
       "  </tbody>\n",
       "</table>\n",
       "<p>3 rows × 30 columns</p>\n",
       "</div>"
      ],
      "text/plain": [
       "      year              name  rank    citizenship countrycode  \\\n",
       "1172  2014       Perenna Kei  1284      Hong Kong         HKG   \n",
       "397   2014  Dustin Moskovitz   202  United States         USA   \n",
       "1004  2014   Mark Zuckerberg    21  United States         USA   \n",
       "\n",
       "      networthusbillion   selfmade         typeofwealth  gender   age  ...  \\\n",
       "1172                1.3  inherited            inherited  female  24.0  ...   \n",
       "397                 6.8  self-made  founder non-finance    male  29.0  ...   \n",
       "1004               28.5  self-made  founder non-finance    male  29.0  ...   \n",
       "\n",
       "     relationshiptocompany foundingdate gdpcurrentus  sourceofwealth  \\\n",
       "1172              relation       1996.0          NaN     real estate   \n",
       "397                founder       2004.0          NaN        Facebook   \n",
       "1004               founder       2004.0          NaN        Facebook   \n",
       "\n",
       "                      notes  notes2  \\\n",
       "1172  inherited from father     NaN   \n",
       "397                     NaN     NaN   \n",
       "1004                    NaN     NaN   \n",
       "\n",
       "                                              source  \\\n",
       "1172        http://en.wikipedia.org/wiki/Perenna_Kei   \n",
       "397    http://en.wikipedia.org/wiki/Dustin_Moskovitz   \n",
       "1004  http://www.forbes.com/profile/mark-zuckerberg/   \n",
       "\n",
       "                                               source_2  \\\n",
       "1172  http://www.loganestate.com/en/about.aspx?ftid=294   \n",
       "397     http://www.forbes.com/profile/dustin-moskovitz/   \n",
       "1004                                                NaN   \n",
       "\n",
       "                                               source_3 source_4  \n",
       "1172                                                NaN      NaN  \n",
       "397   https://www.facebook.com/facebook/info?tab=pag...      NaN  \n",
       "1004                                                NaN      NaN  \n",
       "\n",
       "[3 rows x 30 columns]"
      ]
     },
     "execution_count": 123,
     "metadata": {},
     "output_type": "execute_result"
    }
   ],
   "source": [
    "df_youngest = df.sort_values(by='age').head(3)\n",
    "df_youngest\n"
   ]
  },
  {
   "cell_type": "code",
   "execution_count": 124,
   "metadata": {},
   "outputs": [
    {
     "data": {
      "text/html": [
       "<div>\n",
       "<style scoped>\n",
       "    .dataframe tbody tr th:only-of-type {\n",
       "        vertical-align: middle;\n",
       "    }\n",
       "\n",
       "    .dataframe tbody tr th {\n",
       "        vertical-align: top;\n",
       "    }\n",
       "\n",
       "    .dataframe thead th {\n",
       "        text-align: right;\n",
       "    }\n",
       "</style>\n",
       "<table border=\"1\" class=\"dataframe\">\n",
       "  <thead>\n",
       "    <tr style=\"text-align: right;\">\n",
       "      <th></th>\n",
       "      <th>year</th>\n",
       "      <th>name</th>\n",
       "      <th>rank</th>\n",
       "      <th>citizenship</th>\n",
       "      <th>countrycode</th>\n",
       "      <th>networthusbillion</th>\n",
       "      <th>selfmade</th>\n",
       "      <th>typeofwealth</th>\n",
       "      <th>gender</th>\n",
       "      <th>age</th>\n",
       "      <th>...</th>\n",
       "      <th>relationshiptocompany</th>\n",
       "      <th>foundingdate</th>\n",
       "      <th>gdpcurrentus</th>\n",
       "      <th>sourceofwealth</th>\n",
       "      <th>notes</th>\n",
       "      <th>notes2</th>\n",
       "      <th>source</th>\n",
       "      <th>source_2</th>\n",
       "      <th>source_3</th>\n",
       "      <th>source_4</th>\n",
       "    </tr>\n",
       "  </thead>\n",
       "  <tbody>\n",
       "    <tr>\n",
       "      <th>343</th>\n",
       "      <td>2014</td>\n",
       "      <td>David Rockefeller, Sr.</td>\n",
       "      <td>580</td>\n",
       "      <td>United States</td>\n",
       "      <td>USA</td>\n",
       "      <td>2.9</td>\n",
       "      <td>inherited</td>\n",
       "      <td>inherited</td>\n",
       "      <td>male</td>\n",
       "      <td>98.0</td>\n",
       "      <td>...</td>\n",
       "      <td>relation</td>\n",
       "      <td>1870.0</td>\n",
       "      <td>NaN</td>\n",
       "      <td>oil, banking</td>\n",
       "      <td>family made most of fortune in the late 19th a...</td>\n",
       "      <td>NaN</td>\n",
       "      <td>http://en.wikipedia.org/wiki/David_Rockefeller</td>\n",
       "      <td>http://en.wikipedia.org/wiki/Standard_Oil</td>\n",
       "      <td>http://en.wikipedia.org/wiki/Rockefeller_family</td>\n",
       "      <td>NaN</td>\n",
       "    </tr>\n",
       "    <tr>\n",
       "      <th>816</th>\n",
       "      <td>2014</td>\n",
       "      <td>Karl Wlaschek</td>\n",
       "      <td>305</td>\n",
       "      <td>Austria</td>\n",
       "      <td>AUT</td>\n",
       "      <td>4.8</td>\n",
       "      <td>self-made</td>\n",
       "      <td>founder non-finance</td>\n",
       "      <td>male</td>\n",
       "      <td>96.0</td>\n",
       "      <td>...</td>\n",
       "      <td>founder</td>\n",
       "      <td>1953.0</td>\n",
       "      <td>NaN</td>\n",
       "      <td>retail</td>\n",
       "      <td>NaN</td>\n",
       "      <td>NaN</td>\n",
       "      <td>http://en.wikipedia.org/wiki/BILLA</td>\n",
       "      <td>http://en.wikipedia.org/wiki/Karl_Wlaschek</td>\n",
       "      <td>https://www.billa.at/Footer_Nav_Seiten/Geschic...</td>\n",
       "      <td>NaN</td>\n",
       "    </tr>\n",
       "    <tr>\n",
       "      <th>836</th>\n",
       "      <td>2014</td>\n",
       "      <td>Kirk Kerkorian</td>\n",
       "      <td>328</td>\n",
       "      <td>United States</td>\n",
       "      <td>USA</td>\n",
       "      <td>4.5</td>\n",
       "      <td>self-made</td>\n",
       "      <td>self-made finance</td>\n",
       "      <td>male</td>\n",
       "      <td>96.0</td>\n",
       "      <td>...</td>\n",
       "      <td>investor</td>\n",
       "      <td>1924.0</td>\n",
       "      <td>NaN</td>\n",
       "      <td>casinos, investments</td>\n",
       "      <td>purchased in 1969</td>\n",
       "      <td>NaN</td>\n",
       "      <td>http://en.wikipedia.org/wiki/Kirk_Kerkorian</td>\n",
       "      <td>http://www.forbes.com/profile/kirk-kerkorian/</td>\n",
       "      <td>PROFILE: Las Vegas billionaire amassed his wea...</td>\n",
       "      <td>NaN</td>\n",
       "    </tr>\n",
       "  </tbody>\n",
       "</table>\n",
       "<p>3 rows × 30 columns</p>\n",
       "</div>"
      ],
      "text/plain": [
       "     year                    name  rank    citizenship countrycode  \\\n",
       "343  2014  David Rockefeller, Sr.   580  United States         USA   \n",
       "816  2014           Karl Wlaschek   305        Austria         AUT   \n",
       "836  2014          Kirk Kerkorian   328  United States         USA   \n",
       "\n",
       "     networthusbillion   selfmade         typeofwealth gender   age  ...  \\\n",
       "343                2.9  inherited            inherited   male  98.0  ...   \n",
       "816                4.8  self-made  founder non-finance   male  96.0  ...   \n",
       "836                4.5  self-made    self-made finance   male  96.0  ...   \n",
       "\n",
       "    relationshiptocompany foundingdate gdpcurrentus        sourceofwealth  \\\n",
       "343              relation       1870.0          NaN          oil, banking   \n",
       "816               founder       1953.0          NaN                retail   \n",
       "836              investor       1924.0          NaN  casinos, investments   \n",
       "\n",
       "                                                 notes  notes2  \\\n",
       "343  family made most of fortune in the late 19th a...     NaN   \n",
       "816                                                NaN     NaN   \n",
       "836                                  purchased in 1969     NaN   \n",
       "\n",
       "                                             source  \\\n",
       "343  http://en.wikipedia.org/wiki/David_Rockefeller   \n",
       "816              http://en.wikipedia.org/wiki/BILLA   \n",
       "836     http://en.wikipedia.org/wiki/Kirk_Kerkorian   \n",
       "\n",
       "                                          source_2  \\\n",
       "343      http://en.wikipedia.org/wiki/Standard_Oil   \n",
       "816     http://en.wikipedia.org/wiki/Karl_Wlaschek   \n",
       "836  http://www.forbes.com/profile/kirk-kerkorian/   \n",
       "\n",
       "                                              source_3 source_4  \n",
       "343    http://en.wikipedia.org/wiki/Rockefeller_family      NaN  \n",
       "816  https://www.billa.at/Footer_Nav_Seiten/Geschic...      NaN  \n",
       "836  PROFILE: Las Vegas billionaire amassed his wea...      NaN  \n",
       "\n",
       "[3 rows x 30 columns]"
      ]
     },
     "execution_count": 124,
     "metadata": {},
     "output_type": "execute_result"
    }
   ],
   "source": [
    "df_oldest = df.sort_values(by='age',ascending=False).head(3)\n",
    "df_oldest"
   ]
  },
  {
   "cell_type": "markdown",
   "metadata": {},
   "source": [
    "## 10b) Make a graph of the distribution of ages.\n",
    "\n",
    "> **TIP:** You use `.plot()` to graph values in a column independently, but `.hist()` to draw a [histogram](https://www.mathsisfun.com/data/histograms.html) of the distribution of their values"
   ]
  },
  {
   "cell_type": "code",
   "execution_count": 125,
   "metadata": {},
   "outputs": [
    {
     "data": {
      "text/plain": [
       "<Axes: >"
      ]
     },
     "execution_count": 125,
     "metadata": {},
     "output_type": "execute_result"
    },
    {
     "data": {
      "image/png": "[encoded data removed]",
      "text/plain": [
       "<Figure size 640x480 with 1 Axes>"
      ]
     },
     "metadata": {},
     "output_type": "display_data"
    }
   ],
   "source": [
    "df['age'].hist(bins=100)"
   ]
  },
  {
   "cell_type": "markdown",
   "metadata": {},
   "source": [
    "## 11) Make a scatterplot of net worth compared to age\n",
    "\n",
    "It's more fun to do this in Altair as compared to matplotlib, but either is fine."
   ]
  },
  {
   "cell_type": "code",
   "execution_count": 126,
   "metadata": {},
   "outputs": [
    {
     "data": {
      "text/plain": [
       "<Axes: xlabel='age', ylabel='networthusbillion'>"
      ]
     },
     "execution_count": 126,
     "metadata": {},
     "output_type": "execute_result"
    },
    {
     "data": {
      "image/png": "[encoded data removed]",
      "text/plain": [
       "<Figure size 640x480 with 1 Axes>"
      ]
     },
     "metadata": {},
     "output_type": "display_data"
    }
   ],
   "source": [
    "df.plot(x='age',y='networthusbillion', kind='scatter')"
   ]
  },
  {
   "cell_type": "markdown",
   "metadata": {},
   "source": [
    "## 13) Make a bar graph of the wealth of the top 10 richest billionaires\n",
    "\n",
    "> **TIP:** When you make your plot, you'll need to set the `x` and `y` or else your chart will look _crazy_\n",
    ">\n",
    "> **TIP:** x and y might be the opposite of what you expect them to be"
   ]
  },
  {
   "cell_type": "code",
   "execution_count": 127,
   "metadata": {},
   "outputs": [
    {
     "data": {
      "text/plain": [
       "<Axes: ylabel='name'>"
      ]
     },
     "execution_count": 127,
     "metadata": {},
     "output_type": "execute_result"
    },
    {
     "data": {
      "image/png": "[encoded data removed]",
      "text/plain": [
       "<Figure size 640x480 with 1 Axes>"
      ]
     },
     "metadata": {},
     "output_type": "display_data"
    }
   ],
   "source": [
    "df.sort_values(by='networthusbillion',ascending=False).head(10).sort_values(by='networthusbillion').plot(x='name',y= 'networthusbillion', kind = 'barh')"
   ]
  },
  {
   "cell_type": "code",
   "execution_count": null,
   "metadata": {},
   "outputs": [],
   "source": []
  },
  {
   "cell_type": "markdown",
   "metadata": {},
   "source": [
    "## 14) Read in the most recent data\n",
    "\n",
    "I copied and pasted the most recent data from [the original Bloomberg story](https://www.bloomberg.com/billionaires/) (it's in the page's source code), but it all was saved as JSON. Can you use pandas to read in `billionaires.json`?\n",
    "\n",
    "> **TIP:** If `pd.read_csv` reads a CSV and `pd.read_excel` reads an excel file... what reads in JSON?\n",
    ">\n",
    "> **TIP:** It's a lot less complicated than what we did in class."
   ]
  },
  {
   "cell_type": "code",
   "execution_count": 128,
   "metadata": {},
   "outputs": [
    {
     "data": {
      "text/html": [
       "<div>\n",
       "<style scoped>\n",
       "    .dataframe tbody tr th:only-of-type {\n",
       "        vertical-align: middle;\n",
       "    }\n",
       "\n",
       "    .dataframe tbody tr th {\n",
       "        vertical-align: top;\n",
       "    }\n",
       "\n",
       "    .dataframe thead th {\n",
       "        text-align: right;\n",
       "    }\n",
       "</style>\n",
       "<table border=\"1\" class=\"dataframe\">\n",
       "  <thead>\n",
       "    <tr style=\"text-align: right;\">\n",
       "      <th></th>\n",
       "      <th>commonName</th>\n",
       "      <th>commonLastName</th>\n",
       "      <th>citizenship</th>\n",
       "      <th>slug</th>\n",
       "      <th>industry</th>\n",
       "      <th>personId</th>\n",
       "      <th>rank</th>\n",
       "      <th>worth</th>\n",
       "      <th>lastChange</th>\n",
       "      <th>lastPercentChange</th>\n",
       "      <th>ytdChange</th>\n",
       "      <th>ytdPercentChange</th>\n",
       "      <th>sector</th>\n",
       "      <th>fWorth</th>\n",
       "      <th>fLastChange</th>\n",
       "      <th>fYtdChange</th>\n",
       "      <th>fLastPercentChange</th>\n",
       "      <th>fYtdPercentChange</th>\n",
       "    </tr>\n",
       "  </thead>\n",
       "  <tbody>\n",
       "    <tr>\n",
       "      <th>0</th>\n",
       "      <td>Elon Musk</td>\n",
       "      <td>Musk</td>\n",
       "      <td>United States</td>\n",
       "      <td>elon-r-musk</td>\n",
       "      <td>Technology</td>\n",
       "      <td>1954518</td>\n",
       "      <td>1</td>\n",
       "      <td>221116780866</td>\n",
       "      <td>9795811154</td>\n",
       "      <td>4.64</td>\n",
       "      <td>84106712938</td>\n",
       "      <td>61.39</td>\n",
       "      <td>Technology</td>\n",
       "      <td>$221B</td>\n",
       "      <td>+$9.80B</td>\n",
       "      <td>+$84.1B</td>\n",
       "      <td>+4.6%</td>\n",
       "      <td>+61.4%</td>\n",
       "    </tr>\n",
       "    <tr>\n",
       "      <th>1</th>\n",
       "      <td>Bernard Arnault</td>\n",
       "      <td>Arnault</td>\n",
       "      <td>France</td>\n",
       "      <td>bernard-j-arnault</td>\n",
       "      <td>Consumer</td>\n",
       "      <td>1392853</td>\n",
       "      <td>2</td>\n",
       "      <td>170267873036</td>\n",
       "      <td>7356040557</td>\n",
       "      <td>4.52</td>\n",
       "      <td>8178459368</td>\n",
       "      <td>5.05</td>\n",
       "      <td>Consumer</td>\n",
       "      <td>$170B</td>\n",
       "      <td>+$7.36B</td>\n",
       "      <td>+$8.18B</td>\n",
       "      <td>+4.5%</td>\n",
       "      <td>+5.0%</td>\n",
       "    </tr>\n",
       "    <tr>\n",
       "      <th>2</th>\n",
       "      <td>Jeff Bezos</td>\n",
       "      <td>Bezos</td>\n",
       "      <td>United States</td>\n",
       "      <td>jeffrey-p-bezos</td>\n",
       "      <td>Technology</td>\n",
       "      <td>1642252</td>\n",
       "      <td>3</td>\n",
       "      <td>169556171871</td>\n",
       "      <td>3202661603</td>\n",
       "      <td>1.93</td>\n",
       "      <td>62599942079</td>\n",
       "      <td>58.53</td>\n",
       "      <td>Technology</td>\n",
       "      <td>$170B</td>\n",
       "      <td>+$3.20B</td>\n",
       "      <td>+$62.6B</td>\n",
       "      <td>+1.9%</td>\n",
       "      <td>+58.5%</td>\n",
       "    </tr>\n",
       "    <tr>\n",
       "      <th>3</th>\n",
       "      <td>Bill Gates</td>\n",
       "      <td>Gates</td>\n",
       "      <td>United States</td>\n",
       "      <td>william-h-gates</td>\n",
       "      <td>Technology</td>\n",
       "      <td>1390479</td>\n",
       "      <td>4</td>\n",
       "      <td>131137012631</td>\n",
       "      <td>1103482475</td>\n",
       "      <td>0.85</td>\n",
       "      <td>21900118029</td>\n",
       "      <td>20.05</td>\n",
       "      <td>Technology</td>\n",
       "      <td>$131B</td>\n",
       "      <td>+$1.10B</td>\n",
       "      <td>+$21.9B</td>\n",
       "      <td>+0.8%</td>\n",
       "      <td>+20.1%</td>\n",
       "    </tr>\n",
       "    <tr>\n",
       "      <th>4</th>\n",
       "      <td>Larry Ellison</td>\n",
       "      <td>Ellison</td>\n",
       "      <td>United States</td>\n",
       "      <td>lawrence-j-ellison</td>\n",
       "      <td>Technology</td>\n",
       "      <td>1491757</td>\n",
       "      <td>5</td>\n",
       "      <td>129608081535</td>\n",
       "      <td>2286642464</td>\n",
       "      <td>1.80</td>\n",
       "      <td>37780140594</td>\n",
       "      <td>41.14</td>\n",
       "      <td>Technology</td>\n",
       "      <td>$130B</td>\n",
       "      <td>+$2.29B</td>\n",
       "      <td>+$37.8B</td>\n",
       "      <td>+1.8%</td>\n",
       "      <td>+41.1%</td>\n",
       "    </tr>\n",
       "  </tbody>\n",
       "</table>\n",
       "</div>"
      ],
      "text/plain": [
       "        commonName commonLastName    citizenship                slug  \\\n",
       "0        Elon Musk           Musk  United States         elon-r-musk   \n",
       "1  Bernard Arnault        Arnault         France   bernard-j-arnault   \n",
       "2       Jeff Bezos          Bezos  United States     jeffrey-p-bezos   \n",
       "3       Bill Gates          Gates  United States     william-h-gates   \n",
       "4    Larry Ellison        Ellison  United States  lawrence-j-ellison   \n",
       "\n",
       "     industry  personId  rank         worth  lastChange  lastPercentChange  \\\n",
       "0  Technology   1954518     1  221116780866  9795811154               4.64   \n",
       "1    Consumer   1392853     2  170267873036  7356040557               4.52   \n",
       "2  Technology   1642252     3  169556171871  3202661603               1.93   \n",
       "3  Technology   1390479     4  131137012631  1103482475               0.85   \n",
       "4  Technology   1491757     5  129608081535  2286642464               1.80   \n",
       "\n",
       "     ytdChange  ytdPercentChange      sector fWorth fLastChange fYtdChange  \\\n",
       "0  84106712938             61.39  Technology  $221B     +$9.80B    +$84.1B   \n",
       "1   8178459368              5.05    Consumer  $170B     +$7.36B    +$8.18B   \n",
       "2  62599942079             58.53  Technology  $170B     +$3.20B    +$62.6B   \n",
       "3  21900118029             20.05  Technology  $131B     +$1.10B    +$21.9B   \n",
       "4  37780140594             41.14  Technology  $130B     +$2.29B    +$37.8B   \n",
       "\n",
       "  fLastPercentChange fYtdPercentChange  \n",
       "0              +4.6%            +61.4%  \n",
       "1              +4.5%             +5.0%  \n",
       "2              +1.9%            +58.5%  \n",
       "3              +0.8%            +20.1%  \n",
       "4              +1.8%            +41.1%  "
      ]
     },
     "execution_count": 128,
     "metadata": {},
     "output_type": "execute_result"
    }
   ],
   "source": [
    "dt_new = pd.read_json('billionaires.json')\n",
    "dt_new.head()"
   ]
  }
 ],
 "metadata": {
  "kernelspec": {
   "display_name": "Python 3 (ipykernel)",
   "language": "python",
   "name": "python3"
  },
  "language_info": {
   "codemirror_mode": {
    "name": "ipython",
    "version": 3
   },
   "file_extension": ".py",
   "mimetype": "text/x-python",
   "name": "python",
   "nbconvert_exporter": "python",
   "pygments_lexer": "ipython3",
   "version": "3.12.10"
  }
 },
 "nbformat": 4,
 "nbformat_minor": 4
}
